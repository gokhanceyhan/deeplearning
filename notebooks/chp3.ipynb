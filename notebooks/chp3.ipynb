{
 "cells": [
  {
   "cell_type": "code",
   "execution_count": 14,
   "metadata": {},
   "outputs": [],
   "source": [
    "import torch as tch\n",
    "import torch.nn as nn\n",
    "import numpy as np\n",
    "from sklearn.datasets import make_blobs\n",
    "from matplotlib import pyplot"
   ]
  },
  {
   "cell_type": "code",
   "execution_count": 15,
   "metadata": {},
   "outputs": [
    {
     "name": "stdout",
     "output_type": "stream",
     "text": [
      "X_train.shape: torch.Size([4000, 64])\n",
      "x_test.shape: torch.Size([1000, 64])\n",
      "Y_train.shape: torch.Size([4000, 1])\n",
      "y_test.shape: torch.Size([1000, 1])\n",
      "X.dtype torch.float32\n",
      "y.dtype torch.float32\n"
     ]
    }
   ],
   "source": [
    "samples = 5000\n",
    "#Let's divide the toy dataset into training (80%) and rest for validation.\n",
    "train_split = int(samples*0.8)\n",
    "#Create a dummy classification dataset\n",
    "X, y = make_blobs(n_samples=samples, centers=2, n_features=64, cluster_std=10, random_state=2020)\n",
    "y = y.reshape(-1,1)\n",
    "#Convert the numpy datasets to Torch Tensors\n",
    "X, y = tch.from_numpy(X), tch.from_numpy(y)\n",
    "X, y = X.float(), y.float()\n",
    "#Split the datasets inot train and test(validation)\n",
    "X_train, x_test = X[:train_split], X[train_split:]\n",
    "Y_train, y_test = y[:train_split], y[train_split:]\n",
    "#Print shapes of each dataset\n",
    "print(\"X_train.shape:\",X_train.shape)\n",
    "print(\"x_test.shape:\",x_test.shape)\n",
    "print(\"Y_train.shape:\",Y_train.shape)\n",
    "print(\"y_test.shape:\",y_test.shape)\n",
    "print(\"X.dtype\",X.dtype)\n",
    "print(\"y.dtype\",y.dtype)"
   ]
  },
  {
   "cell_type": "code",
   "execution_count": 16,
   "metadata": {},
   "outputs": [],
   "source": [
    "class NeuralNetwork(nn.Module):\n",
    "    \n",
    "    def __init__(self):\n",
    "        super().__init__()\n",
    "        tch.manual_seed(2020)\n",
    "        self.fc1 = nn.Linear(64, 256)\n",
    "        self.relu1 = nn.ReLU()\n",
    "        self.fc2 = nn.Linear(256, 1024)\n",
    "        self.relu2 = nn.ReLU()\n",
    "        self.out = nn.Linear(1024, 1)\n",
    "        self.final = nn.Sigmoid()\n",
    "\n",
    "    def forward(self, x):\n",
    "        op = self.fc1(x)\n",
    "        op = self.relu1(op)\n",
    "        op = self.fc2(op)\n",
    "        op = self.relu2(op)\n",
    "        op = self.out(op)\n",
    "        y = self.final(op)\n",
    "        return y"
   ]
  },
  {
   "cell_type": "code",
   "execution_count": 21,
   "metadata": {},
   "outputs": [],
   "source": [
    "def train_network(\n",
    "        model, optimizer, loss_function, num_epochs, batch_size, X_train, \n",
    "        Y_train):\n",
    "    #Explicitly start model training\n",
    "    model.train()\n",
    "    loss_across_epochs = []\n",
    "    for epoch in range(num_epochs):\n",
    "        train_loss = 0.0\n",
    "        for i in range(0, X_train.shape[0], batch_size):\n",
    "            #Extract train batch from X and Y\n",
    "            input_data = X_train[i:min(X_train.shape[0],i+batch_size)]\n",
    "            labels = Y_train[i:min(X_train.shape[0],i+batch_size)]\n",
    "            #set the gradients to zero before starting to do backpropragation\n",
    "            optimizer.zero_grad()\n",
    "            #Forward pass\n",
    "            output_data  = model(input_data)\n",
    "            #Calculate loss\n",
    "            loss = loss_function(output_data, labels)\n",
    "            #Backpropogate\n",
    "            loss.backward()\n",
    "            #Update weights\n",
    "            optimizer.step()\n",
    "            train_loss += loss.item() * batch_size\n",
    "        print(\"Epoch: {} - Loss:{:.4f}\".format(epoch+1,train_loss ))\n",
    "        loss_across_epochs.extend([train_loss])\n",
    "    #Predict\n",
    "    y_test_pred = model(x_test)\n",
    "    a = np.where(y_test_pred>0.5,1,0)\n",
    "    return(loss_across_epochs)"
   ]
  },
  {
   "cell_type": "code",
   "execution_count": 22,
   "metadata": {},
   "outputs": [
    {
     "name": "stdout",
     "output_type": "stream",
     "text": [
      "Epoch: 1 - Loss:107.9976\n",
      "Epoch: 2 - Loss:8.7378\n",
      "Epoch: 3 - Loss:8.2709\n",
      "Epoch: 4 - Loss:0.8968\n",
      "Epoch: 5 - Loss:0.2220\n",
      "Epoch: 6 - Loss:0.0017\n",
      "Epoch: 7 - Loss:0.0016\n",
      "Epoch: 8 - Loss:0.0014\n",
      "Epoch: 9 - Loss:0.0012\n",
      "Epoch: 10 - Loss:0.0011\n"
     ]
    }
   ],
   "source": [
    "#Create an object of the Neural Network class\n",
    "model = NeuralNetwork()\n",
    "#Define loss function\n",
    "loss_function = nn.BCELoss()  #Binary Crosss Entropy Loss\n",
    "#Define Optimizer\n",
    "adam_optimizer = tch.optim.Adam(model.parameters(), lr = 0.001)\n",
    "#Define epochs and batch size\n",
    "num_epochs = 10\n",
    "batch_size = 16\n",
    "#Calling the function for training and pass model, optimizer, loss and related paramters\n",
    "adam_loss = train_network(\n",
    "    model, adam_optimizer, loss_function, num_epochs, batch_size, X_train, \n",
    "    Y_train)"
   ]
  },
  {
   "cell_type": "code",
   "execution_count": 23,
   "metadata": {},
   "outputs": [
    {
     "name": "stdout",
     "output_type": "stream",
     "text": [
      "RMSProp...\n",
      "Epoch: 1 - Loss:5642.1958\n",
      "Epoch: 2 - Loss:2488.2865\n",
      "Epoch: 3 - Loss:1269.1450\n",
      "Epoch: 4 - Loss:1381.2054\n",
      "Epoch: 5 - Loss:2151.6947\n",
      "Epoch: 6 - Loss:2441.7529\n",
      "Epoch: 7 - Loss:1313.8848\n",
      "Epoch: 8 - Loss:7171.2571\n",
      "Epoch: 9 - Loss:451.1859\n",
      "Epoch: 10 - Loss:748.9558\n",
      "Adam...\n",
      "Epoch: 1 - Loss:107.9976\n",
      "Epoch: 2 - Loss:8.7378\n",
      "Epoch: 3 - Loss:8.2709\n",
      "Epoch: 4 - Loss:0.8968\n",
      "Epoch: 5 - Loss:0.2220\n",
      "Epoch: 6 - Loss:0.0017\n",
      "Epoch: 7 - Loss:0.0016\n",
      "Epoch: 8 - Loss:0.0014\n",
      "Epoch: 9 - Loss:0.0012\n",
      "Epoch: 10 - Loss:0.0011\n",
      "SGD...\n",
      "Epoch: 1 - Loss:915.0240\n",
      "Epoch: 2 - Loss:1496.6298\n",
      "Epoch: 3 - Loss:1202.2022\n",
      "Epoch: 4 - Loss:1766.5129\n",
      "Epoch: 5 - Loss:343.3775\n",
      "Epoch: 6 - Loss:364.1351\n",
      "Epoch: 7 - Loss:364.1103\n",
      "Epoch: 8 - Loss:364.1062\n",
      "Epoch: 9 - Loss:364.1020\n",
      "Epoch: 10 - Loss:364.0981\n"
     ]
    }
   ],
   "source": [
    "#Train network using RMSProp optimizer\n",
    "model = NeuralNetwork()\n",
    "rmsprp_optimizer = tch.optim.RMSprop(\n",
    "    model.parameters(), lr=0.01, alpha=0.9, eps=1e-08, weight_decay=0.1, \n",
    "    momentum=0.1, centered=True)\n",
    "print(\"RMSProp...\")\n",
    "rmsprop_loss = train_network(\n",
    "    model,rmsprp_optimizer,loss_function,num_epochs,batch_size,X_train,Y_train)\n",
    "#Train network using Adam optimizer\n",
    "model = NeuralNetwork()\n",
    "adam_optimizer = tch.optim.Adam(model.parameters(),lr= 0.001)\n",
    "print(\"Adam...\")\n",
    "adam_loss = train_network(\n",
    "    model,adam_optimizer,loss_function,num_epochs,batch_size,X_train,Y_train)\n",
    "#Train network using SGD optimizer\n",
    "model = NeuralNetwork()\n",
    "sgd_optimizer = tch.optim.SGD(model.parameters(), lr=0.01, momentum=0.9)\n",
    "print(\"SGD...\")\n",
    "sgd_loss = train_network(\n",
    "    model,sgd_optimizer,loss_function,num_epochs,batch_size,X_train,Y_train)"
   ]
  },
  {
   "cell_type": "code",
   "execution_count": 24,
   "metadata": {},
   "outputs": [
    {
     "data": {
      "image/png": "[encoded data removed]",
      "text/plain": [
       "<Figure size 432x288 with 1 Axes>"
      ]
     },
     "metadata": {
      "needs_background": "light"
     },
     "output_type": "display_data"
    }
   ],
   "source": [
    "#Plot the losses for each optimizer across epochs\n",
    "import matplotlib.pyplot as plt\n",
    "%matplotlib inline\n",
    "epochs = range(0,10)\n",
    "ax = plt.subplot(111)\n",
    "ax.plot(adam_loss,label=\"ADAM\")\n",
    "ax.plot(sgd_loss,label=\"SGD\")\n",
    "ax.plot(rmsprop_loss,label=\"RMSProp\")\n",
    "ax.legend()\n",
    "plt.xlabel(\"Epochs\")\n",
    "plt.ylabel(\"Overall Loss\")\n",
    "plt.title(\"Loss across epochs for different optimizers\")\n",
    "plt.show()"
   ]
  }
 ],
 "metadata": {
  "interpreter": {
   "hash": "18b9f998194b1e812736b1855138d24a0ba8efc8700746f6ea84cd11a4b20f07"
  },
  "kernelspec": {
   "display_name": "Python 3.9.4 ('.venv': venv)",
   "language": "python",
   "name": "python3"
  },
  "language_info": {
   "codemirror_mode": {
    "name": "ipython",
    "version": 3
   },
   "file_extension": ".py",
   "mimetype": "text/x-python",
   "name": "python",
   "nbconvert_exporter": "python",
   "pygments_lexer": "ipython3",
   "version": "3.9.4"
  },
  "orig_nbformat": 4
 },
 "nbformat": 4,
 "nbformat_minor": 2
}
