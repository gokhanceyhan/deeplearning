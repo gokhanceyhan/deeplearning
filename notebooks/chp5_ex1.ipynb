{
 "cells": [
  {
   "cell_type": "code",
   "execution_count": 1,
   "metadata": {},
   "outputs": [],
   "source": [
    "import pandas as pd\n",
    "import matplotlib.pyplot as plt\n",
    "from sklearn.metrics import mean_absolute_error, mean_absolute_percentage_error, \\\n",
    "    mean_squared_error, mean_squared_log_error\n",
    "from sklearn.model_selection import train_test_split\n",
    "import torch as tch\n",
    "import torch.nn as nn"
   ]
  },
  {
   "cell_type": "code",
   "execution_count": 2,
   "metadata": {},
   "outputs": [],
   "source": [
    "data_file_path = \"../data/santander-value-prediction-challenge/\"\n",
    "df = pd.read_csv(data_file_path + \"train.csv\")"
   ]
  },
  {
   "cell_type": "code",
   "execution_count": 3,
   "metadata": {},
   "outputs": [
    {
     "data": {
      "text/html": [
       "<div>\n",
       "<style scoped>\n",
       "    .dataframe tbody tr th:only-of-type {\n",
       "        vertical-align: middle;\n",
       "    }\n",
       "\n",
       "    .dataframe tbody tr th {\n",
       "        vertical-align: top;\n",
       "    }\n",
       "\n",
       "    .dataframe thead th {\n",
       "        text-align: right;\n",
       "    }\n",
       "</style>\n",
       "<table border=\"1\" class=\"dataframe\">\n",
       "  <thead>\n",
       "    <tr style=\"text-align: right;\">\n",
       "      <th></th>\n",
       "      <th>ID</th>\n",
       "      <th>target</th>\n",
       "      <th>48df886f9</th>\n",
       "      <th>0deb4b6a8</th>\n",
       "      <th>34b15f335</th>\n",
       "      <th>a8cb14b00</th>\n",
       "      <th>2f0771a37</th>\n",
       "      <th>30347e683</th>\n",
       "      <th>d08d1fbe3</th>\n",
       "      <th>6ee66e115</th>\n",
       "      <th>...</th>\n",
       "      <th>3ecc09859</th>\n",
       "      <th>9281abeea</th>\n",
       "      <th>8675bec0b</th>\n",
       "      <th>3a13ed79a</th>\n",
       "      <th>f677d4d13</th>\n",
       "      <th>71b203550</th>\n",
       "      <th>137efaa80</th>\n",
       "      <th>fb36b89d9</th>\n",
       "      <th>7e293fbaf</th>\n",
       "      <th>9fc776466</th>\n",
       "    </tr>\n",
       "  </thead>\n",
       "  <tbody>\n",
       "    <tr>\n",
       "      <th>0</th>\n",
       "      <td>000d6aaf2</td>\n",
       "      <td>38000000.0</td>\n",
       "      <td>0.0</td>\n",
       "      <td>0</td>\n",
       "      <td>0.0</td>\n",
       "      <td>0</td>\n",
       "      <td>0</td>\n",
       "      <td>0</td>\n",
       "      <td>0</td>\n",
       "      <td>0</td>\n",
       "      <td>...</td>\n",
       "      <td>0.0</td>\n",
       "      <td>0.0</td>\n",
       "      <td>0.0</td>\n",
       "      <td>0</td>\n",
       "      <td>0</td>\n",
       "      <td>0</td>\n",
       "      <td>0</td>\n",
       "      <td>0</td>\n",
       "      <td>0</td>\n",
       "      <td>0</td>\n",
       "    </tr>\n",
       "    <tr>\n",
       "      <th>1</th>\n",
       "      <td>000fbd867</td>\n",
       "      <td>600000.0</td>\n",
       "      <td>0.0</td>\n",
       "      <td>0</td>\n",
       "      <td>0.0</td>\n",
       "      <td>0</td>\n",
       "      <td>0</td>\n",
       "      <td>0</td>\n",
       "      <td>0</td>\n",
       "      <td>0</td>\n",
       "      <td>...</td>\n",
       "      <td>0.0</td>\n",
       "      <td>0.0</td>\n",
       "      <td>0.0</td>\n",
       "      <td>0</td>\n",
       "      <td>0</td>\n",
       "      <td>0</td>\n",
       "      <td>0</td>\n",
       "      <td>0</td>\n",
       "      <td>0</td>\n",
       "      <td>0</td>\n",
       "    </tr>\n",
       "    <tr>\n",
       "      <th>2</th>\n",
       "      <td>0027d6b71</td>\n",
       "      <td>10000000.0</td>\n",
       "      <td>0.0</td>\n",
       "      <td>0</td>\n",
       "      <td>0.0</td>\n",
       "      <td>0</td>\n",
       "      <td>0</td>\n",
       "      <td>0</td>\n",
       "      <td>0</td>\n",
       "      <td>0</td>\n",
       "      <td>...</td>\n",
       "      <td>0.0</td>\n",
       "      <td>0.0</td>\n",
       "      <td>0.0</td>\n",
       "      <td>0</td>\n",
       "      <td>0</td>\n",
       "      <td>0</td>\n",
       "      <td>0</td>\n",
       "      <td>0</td>\n",
       "      <td>0</td>\n",
       "      <td>0</td>\n",
       "    </tr>\n",
       "    <tr>\n",
       "      <th>3</th>\n",
       "      <td>0028cbf45</td>\n",
       "      <td>2000000.0</td>\n",
       "      <td>0.0</td>\n",
       "      <td>0</td>\n",
       "      <td>0.0</td>\n",
       "      <td>0</td>\n",
       "      <td>0</td>\n",
       "      <td>0</td>\n",
       "      <td>0</td>\n",
       "      <td>0</td>\n",
       "      <td>...</td>\n",
       "      <td>0.0</td>\n",
       "      <td>0.0</td>\n",
       "      <td>0.0</td>\n",
       "      <td>0</td>\n",
       "      <td>0</td>\n",
       "      <td>0</td>\n",
       "      <td>0</td>\n",
       "      <td>0</td>\n",
       "      <td>0</td>\n",
       "      <td>0</td>\n",
       "    </tr>\n",
       "    <tr>\n",
       "      <th>4</th>\n",
       "      <td>002a68644</td>\n",
       "      <td>14400000.0</td>\n",
       "      <td>0.0</td>\n",
       "      <td>0</td>\n",
       "      <td>0.0</td>\n",
       "      <td>0</td>\n",
       "      <td>0</td>\n",
       "      <td>0</td>\n",
       "      <td>0</td>\n",
       "      <td>0</td>\n",
       "      <td>...</td>\n",
       "      <td>0.0</td>\n",
       "      <td>0.0</td>\n",
       "      <td>0.0</td>\n",
       "      <td>0</td>\n",
       "      <td>0</td>\n",
       "      <td>0</td>\n",
       "      <td>0</td>\n",
       "      <td>0</td>\n",
       "      <td>0</td>\n",
       "      <td>0</td>\n",
       "    </tr>\n",
       "  </tbody>\n",
       "</table>\n",
       "<p>5 rows × 4993 columns</p>\n",
       "</div>"
      ],
      "text/plain": [
       "          ID      target  48df886f9  0deb4b6a8  34b15f335  a8cb14b00  \\\n",
       "0  000d6aaf2  38000000.0        0.0          0        0.0          0   \n",
       "1  000fbd867    600000.0        0.0          0        0.0          0   \n",
       "2  0027d6b71  10000000.0        0.0          0        0.0          0   \n",
       "3  0028cbf45   2000000.0        0.0          0        0.0          0   \n",
       "4  002a68644  14400000.0        0.0          0        0.0          0   \n",
       "\n",
       "   2f0771a37  30347e683  d08d1fbe3  6ee66e115  ...  3ecc09859  9281abeea  \\\n",
       "0          0          0          0          0  ...        0.0        0.0   \n",
       "1          0          0          0          0  ...        0.0        0.0   \n",
       "2          0          0          0          0  ...        0.0        0.0   \n",
       "3          0          0          0          0  ...        0.0        0.0   \n",
       "4          0          0          0          0  ...        0.0        0.0   \n",
       "\n",
       "   8675bec0b  3a13ed79a  f677d4d13  71b203550  137efaa80  fb36b89d9  \\\n",
       "0        0.0          0          0          0          0          0   \n",
       "1        0.0          0          0          0          0          0   \n",
       "2        0.0          0          0          0          0          0   \n",
       "3        0.0          0          0          0          0          0   \n",
       "4        0.0          0          0          0          0          0   \n",
       "\n",
       "   7e293fbaf  9fc776466  \n",
       "0          0          0  \n",
       "1          0          0  \n",
       "2          0          0  \n",
       "3          0          0  \n",
       "4          0          0  \n",
       "\n",
       "[5 rows x 4993 columns]"
      ]
     },
     "execution_count": 3,
     "metadata": {},
     "output_type": "execute_result"
    }
   ],
   "source": [
    "df.head()"
   ]
  },
  {
   "cell_type": "code",
   "execution_count": 4,
   "metadata": {},
   "outputs": [],
   "source": [
    "df_y = df[\"target\"]\n",
    "predictors = [c for c in df.columns if c not in [\"target\", \"ID\"]]\n",
    "df_X = df.loc[:, predictors]"
   ]
  },
  {
   "cell_type": "code",
   "execution_count": 5,
   "metadata": {},
   "outputs": [
    {
     "data": {
      "text/plain": [
       "<AxesSubplot:>"
      ]
     },
     "execution_count": 5,
     "metadata": {},
     "output_type": "execute_result"
    },
    {
     "data": {
      "image/png": "[encoded data removed]",
      "text/plain": [
       "<Figure size 432x288 with 1 Axes>"
      ]
     },
     "metadata": {
      "needs_background": "light"
     },
     "output_type": "display_data"
    }
   ],
   "source": [
    "df_y.hist()"
   ]
  },
  {
   "cell_type": "code",
   "execution_count": 6,
   "metadata": {},
   "outputs": [
    {
     "data": {
      "text/plain": [
       "count    4.459000e+03\n",
       "mean     5.944923e+06\n",
       "std      8.234312e+06\n",
       "min      3.000000e+04\n",
       "25%      6.000000e+05\n",
       "50%      2.260000e+06\n",
       "75%      8.000000e+06\n",
       "max      4.000000e+07\n",
       "Name: target, dtype: float64"
      ]
     },
     "execution_count": 6,
     "metadata": {},
     "output_type": "execute_result"
    }
   ],
   "source": [
    "df_y.describe()"
   ]
  },
  {
   "cell_type": "code",
   "execution_count": 7,
   "metadata": {},
   "outputs": [
    {
     "data": {
      "text/plain": [
       "{dtype('int64'), dtype('float64')}"
      ]
     },
     "execution_count": 7,
     "metadata": {},
     "output_type": "execute_result"
    }
   ],
   "source": [
    "set(df_X.dtypes.values)"
   ]
  },
  {
   "cell_type": "code",
   "execution_count": 8,
   "metadata": {},
   "outputs": [],
   "source": [
    "df_X_train, df_X_test, df_y_train, df_y_test = train_test_split(df_X, df_y, test_size=0.2)"
   ]
  },
  {
   "cell_type": "code",
   "execution_count": 9,
   "metadata": {},
   "outputs": [],
   "source": [
    "X_train = tch.from_numpy(df_X_train.values).float()\n",
    "X_test = tch.from_numpy(df_X_test.values).float()\n",
    "y_train = tch.from_numpy(df_y_train.values).float().reshape(-1, 1)\n",
    "y_test = tch.from_numpy(df_y_test.values).float().reshape(-1, 1)"
   ]
  },
  {
   "cell_type": "code",
   "execution_count": 10,
   "metadata": {},
   "outputs": [
    {
     "data": {
      "text/plain": [
       "torch.Size([3567, 4991])"
      ]
     },
     "execution_count": 10,
     "metadata": {},
     "output_type": "execute_result"
    }
   ],
   "source": [
    "X_train.shape"
   ]
  },
  {
   "cell_type": "code",
   "execution_count": 11,
   "metadata": {},
   "outputs": [
    {
     "name": "stdout",
     "output_type": "stream",
     "text": [
      "Using cpu device\n"
     ]
    }
   ],
   "source": [
    "device = \"cuda\" if tch.cuda.is_available() else \"cpu\"\n",
    "print(f\"Using {device} device\")"
   ]
  },
  {
   "cell_type": "code",
   "execution_count": 12,
   "metadata": {},
   "outputs": [],
   "source": [
    "class Model(nn.Module):\n",
    "\n",
    "    def __init__(self) -> None:\n",
    "        super().__init__()\n",
    "        tch.manual_seed(2022)\n",
    "        self._pipeline = nn.Sequential(\n",
    "            nn.Dropout(0.1),\n",
    "            nn.Linear(4991, 100),\n",
    "            nn.ReLU(),\n",
    "            nn.Dropout(0.1),\n",
    "            nn.Linear(100, 100),\n",
    "            nn.ReLU(),\n",
    "            nn.Dropout(0.1),\n",
    "            nn.Linear(100, 100),\n",
    "            nn.ReLU(),\n",
    "            nn.Dropout(0.1),\n",
    "            nn.Linear(100, 1),\n",
    "            nn.ReLU()\n",
    "        )\n",
    "\n",
    "    def forward(self, x):\n",
    "        return self._pipeline(x)\n",
    "        "
   ]
  },
  {
   "cell_type": "code",
   "execution_count": 13,
   "metadata": {},
   "outputs": [],
   "source": [
    "class RMSLELoss(nn.Module):\n",
    "    def __init__(self):\n",
    "        super(RMSLELoss, self).__init__()\n",
    "        self.mse = nn.MSELoss()\n",
    "        \n",
    "    def forward(self, pred, actual):\n",
    "        return tch.sqrt(self.mse(tch.log(pred + 1), tch.log(actual + 1)))"
   ]
  },
  {
   "cell_type": "code",
   "execution_count": 14,
   "metadata": {},
   "outputs": [],
   "source": [
    "# Define the loss function\n",
    "loss_function = nn.MSELoss()\n",
    "\n",
    "# Hyperparameters\n",
    "\n",
    "# Create a model instance\n",
    "model = Model()\n",
    "\n",
    "# Define optimizer\n",
    "optimizer = tch.optim.Adam(model.parameters(), weight_decay=0.0001)"
   ]
  },
  {
   "cell_type": "code",
   "execution_count": 15,
   "metadata": {},
   "outputs": [
    {
     "name": "stdout",
     "output_type": "stream",
     "text": [
      "Model structure: Model(\n",
      "  (_pipeline): Sequential(\n",
      "    (0): Dropout(p=0.1, inplace=False)\n",
      "    (1): Linear(in_features=4991, out_features=100, bias=True)\n",
      "    (2): ReLU()\n",
      "    (3): Dropout(p=0.1, inplace=False)\n",
      "    (4): Linear(in_features=100, out_features=100, bias=True)\n",
      "    (5): ReLU()\n",
      "    (6): Dropout(p=0.1, inplace=False)\n",
      "    (7): Linear(in_features=100, out_features=100, bias=True)\n",
      "    (8): ReLU()\n",
      "    (9): Dropout(p=0.1, inplace=False)\n",
      "    (10): Linear(in_features=100, out_features=1, bias=True)\n",
      "    (11): ReLU()\n",
      "  )\n",
      ")\n",
      "\n",
      "\n",
      "Layer: _pipeline.1.weight | Size: torch.Size([100, 4991]) | Values : tensor([[-0.0029,  0.0119,  0.0073,  ...,  0.0033, -0.0113, -0.0014],\n",
      "        [-0.0065, -0.0084,  0.0032,  ...,  0.0135, -0.0104, -0.0123]],\n",
      "       grad_fn=<SliceBackward0>) \n",
      "\n",
      "Layer: _pipeline.1.bias | Size: torch.Size([100]) | Values : tensor([0.0114, 0.0007], grad_fn=<SliceBackward0>) \n",
      "\n",
      "Layer: _pipeline.4.weight | Size: torch.Size([100, 100]) | Values : tensor([[ 9.6473e-02, -2.8440e-02,  6.2002e-02, -6.2107e-02,  2.3780e-03,\n",
      "         -2.3354e-02, -3.7813e-02, -5.7179e-02,  3.2564e-02, -7.4066e-02,\n",
      "          2.0292e-02,  1.0794e-02,  1.3583e-02,  5.0384e-02, -7.4455e-02,\n",
      "         -4.4435e-02, -2.1589e-02, -1.9691e-02, -9.1417e-02, -1.7457e-02,\n",
      "          3.7537e-02, -7.7939e-02,  1.7208e-02,  8.2106e-02,  6.1702e-02,\n",
      "         -7.5455e-02, -3.5412e-02,  3.8968e-02,  1.3237e-02,  1.0980e-02,\n",
      "          3.1389e-02, -1.4336e-02, -3.4710e-02, -8.1018e-04, -1.6053e-02,\n",
      "          9.8016e-02, -9.7518e-02,  6.0442e-02,  6.9462e-02, -9.1242e-02,\n",
      "         -1.2228e-02, -4.0533e-02, -7.1742e-02, -8.3923e-03,  7.2237e-02,\n",
      "          4.6627e-02,  2.2823e-02,  8.0447e-02,  8.6238e-02,  8.5186e-02,\n",
      "          6.4127e-02,  6.7950e-02,  4.5809e-03,  1.7002e-02,  7.7199e-02,\n",
      "         -5.8209e-02, -2.1458e-02,  6.8496e-02,  2.0481e-02, -7.3384e-02,\n",
      "         -5.9605e-02,  1.7489e-02, -4.8626e-02, -5.9890e-02,  7.8548e-02,\n",
      "         -8.3886e-05, -7.1587e-02,  2.3408e-02,  9.8803e-02,  5.4990e-02,\n",
      "         -2.0727e-02, -5.4947e-02,  3.6509e-02,  4.6747e-02,  1.9762e-02,\n",
      "          7.1617e-02, -8.0654e-02,  1.5610e-02,  8.0346e-02,  8.5532e-02,\n",
      "          1.1977e-02, -3.2679e-02,  9.2618e-02, -3.6072e-02, -5.1202e-03,\n",
      "         -8.9085e-02,  2.8610e-03, -1.1541e-02,  7.1535e-04, -2.7651e-02,\n",
      "          2.9113e-03, -7.8816e-02, -8.2297e-02, -7.8960e-02,  3.4334e-02,\n",
      "         -5.8526e-02, -4.3426e-02,  7.7339e-02, -9.9239e-03, -5.6526e-02],\n",
      "        [ 8.4952e-02, -5.4112e-02,  6.9842e-02,  4.5509e-02,  9.8807e-02,\n",
      "         -7.6687e-02,  3.0168e-03, -3.1043e-02,  5.4137e-02, -5.7516e-03,\n",
      "         -9.1542e-02, -1.5854e-02,  3.8588e-02, -5.5669e-02, -3.7622e-02,\n",
      "         -6.0144e-02,  4.9619e-02, -1.2316e-02,  9.7285e-02, -5.8295e-02,\n",
      "          9.2793e-02,  5.0321e-02,  4.7279e-02,  7.3804e-03, -1.4428e-02,\n",
      "          4.0933e-02,  1.7765e-02,  7.2629e-02,  2.6389e-02,  6.8393e-02,\n",
      "          7.1527e-02,  8.1741e-02, -7.9596e-02, -6.7258e-02,  5.9395e-02,\n",
      "          7.3599e-02, -7.7604e-02, -5.3211e-02,  3.8048e-02,  3.6238e-03,\n",
      "          5.5544e-02, -4.3794e-02, -9.2263e-02, -1.5421e-02,  1.0668e-02,\n",
      "          1.8540e-02, -5.0950e-02,  9.1171e-02, -3.6289e-02,  2.1184e-02,\n",
      "         -9.1584e-02,  8.4356e-02,  5.7799e-02, -7.8063e-02, -9.0594e-02,\n",
      "         -7.0045e-02, -3.0321e-02,  2.4143e-02, -6.6050e-02,  2.8646e-02,\n",
      "         -8.7404e-02, -6.5477e-02, -4.2156e-02,  2.1497e-02, -9.3041e-02,\n",
      "         -6.5705e-02, -1.0583e-03,  8.3793e-02, -3.8793e-03,  1.4247e-02,\n",
      "         -6.8868e-02, -7.2995e-02, -5.2224e-02,  2.5190e-02, -9.2133e-02,\n",
      "          3.3654e-02, -1.0736e-02, -2.1255e-02, -4.9981e-02,  8.4847e-02,\n",
      "          1.6293e-02,  8.0330e-02,  4.8314e-02, -1.5500e-02, -7.2645e-02,\n",
      "          2.0487e-02,  7.4963e-02,  1.5064e-02,  7.2507e-03,  8.8549e-02,\n",
      "         -6.4268e-02,  6.7822e-02,  6.3972e-02, -7.8746e-02, -9.3740e-02,\n",
      "         -6.5649e-02,  9.1007e-02,  4.2872e-02,  2.3811e-02,  7.4179e-02]],\n",
      "       grad_fn=<SliceBackward0>) \n",
      "\n",
      "Layer: _pipeline.4.bias | Size: torch.Size([100]) | Values : tensor([-0.0533, -0.0651], grad_fn=<SliceBackward0>) \n",
      "\n",
      "Layer: _pipeline.7.weight | Size: torch.Size([100, 100]) | Values : tensor([[ 0.0700, -0.0010, -0.0203, -0.0812, -0.0006,  0.0580,  0.0497, -0.0206,\n",
      "          0.0381, -0.0048, -0.0206, -0.0047,  0.0740,  0.0445, -0.0216, -0.0085,\n",
      "         -0.0573, -0.0031,  0.0044,  0.0859,  0.0809,  0.0983, -0.0244,  0.0520,\n",
      "         -0.0892, -0.0627,  0.0604, -0.0912, -0.0478, -0.0481,  0.0118,  0.0535,\n",
      "         -0.0349,  0.0815,  0.0969,  0.0949, -0.0156,  0.0954,  0.0305,  0.0856,\n",
      "          0.0538,  0.0415,  0.0744,  0.0602, -0.0988, -0.0351,  0.0915,  0.0847,\n",
      "         -0.0204, -0.0114, -0.0662, -0.0455, -0.0436, -0.0055,  0.0731,  0.0554,\n",
      "         -0.0050,  0.0322,  0.0196, -0.0646,  0.0506, -0.0288, -0.0309, -0.0859,\n",
      "         -0.0495,  0.0783,  0.0157, -0.0572,  0.0939,  0.0868, -0.0055, -0.0990,\n",
      "          0.0299, -0.0840, -0.0010, -0.0276, -0.0375, -0.0963,  0.0834,  0.0336,\n",
      "          0.0207, -0.0634, -0.0726,  0.0874,  0.0128, -0.0830, -0.0839, -0.0050,\n",
      "         -0.0115, -0.0983,  0.0027, -0.0361, -0.0068, -0.0463, -0.0535,  0.0848,\n",
      "          0.0773, -0.0407,  0.0489, -0.0494],\n",
      "        [-0.0796, -0.0764, -0.0030,  0.0240,  0.0535,  0.0133,  0.0210, -0.0993,\n",
      "         -0.0913,  0.0124,  0.0770, -0.0953,  0.0838,  0.0733, -0.0860, -0.0158,\n",
      "          0.0679, -0.0263, -0.0374, -0.0432, -0.0260, -0.0456, -0.0196, -0.0689,\n",
      "         -0.0954, -0.0879, -0.0584,  0.0951, -0.0945, -0.0269,  0.0249,  0.0884,\n",
      "          0.0773, -0.0435, -0.0789, -0.0680,  0.0113, -0.0484,  0.0528, -0.0807,\n",
      "         -0.0488, -0.0119,  0.0118, -0.0376,  0.0906,  0.0476,  0.0361, -0.0680,\n",
      "          0.0749, -0.0562, -0.0601, -0.0654,  0.0386,  0.0089, -0.0970,  0.0911,\n",
      "         -0.0037,  0.0846, -0.0926,  0.0819, -0.0655,  0.0845,  0.0465,  0.0075,\n",
      "         -0.0612,  0.0855,  0.0315,  0.0430,  0.0528, -0.0113, -0.0361, -0.0711,\n",
      "          0.0406,  0.0836,  0.0863, -0.0561,  0.0083,  0.0911,  0.0693,  0.0531,\n",
      "         -0.0321, -0.0173,  0.0992,  0.0762,  0.0310, -0.0748, -0.0592,  0.0362,\n",
      "         -0.0339, -0.0335,  0.0132,  0.0474, -0.0557,  0.0291, -0.0855, -0.0583,\n",
      "          0.0507,  0.0390, -0.0356, -0.0043]], grad_fn=<SliceBackward0>) \n",
      "\n",
      "Layer: _pipeline.7.bias | Size: torch.Size([100]) | Values : tensor([-0.0462,  0.0773], grad_fn=<SliceBackward0>) \n",
      "\n",
      "Layer: _pipeline.10.weight | Size: torch.Size([1, 100]) | Values : tensor([[ 0.0305,  0.0699,  0.0768, -0.0258,  0.0930,  0.0383,  0.0459,  0.0954,\n",
      "         -0.0214,  0.0401, -0.0712,  0.0625,  0.0142, -0.0139, -0.0064, -0.0785,\n",
      "          0.0882,  0.0831, -0.0677, -0.0929, -0.0694,  0.0554,  0.0285,  0.0561,\n",
      "         -0.0244, -0.0863,  0.0090, -0.0373,  0.0145, -0.0753, -0.0974, -0.0156,\n",
      "          0.0507,  0.0151, -0.0344,  0.0592, -0.0764,  0.0194, -0.0990, -0.0008,\n",
      "         -0.0778,  0.0446, -0.0785,  0.0800, -0.0139,  0.0463, -0.0772,  0.0658,\n",
      "         -0.0967, -0.0553, -0.0049, -0.0047,  0.0685,  0.0585, -0.0751,  0.0213,\n",
      "         -0.0542,  0.0590, -0.0899, -0.0811,  0.0357,  0.0581, -0.0422,  0.0600,\n",
      "          0.0842,  0.0407, -0.0336, -0.0613,  0.0360,  0.0421, -0.0443, -0.0988,\n",
      "         -0.0769,  0.0192, -0.0021, -0.0811,  0.0532, -0.0893, -0.0493,  0.0424,\n",
      "          0.0384,  0.0534, -0.0958,  0.0760,  0.0882, -0.0887, -0.0292,  0.0800,\n",
      "          0.0855, -0.0646, -0.0602,  0.0654,  0.0060,  0.0685, -0.0243,  0.0723,\n",
      "          0.0925,  0.0694,  0.0573, -0.0061]], grad_fn=<SliceBackward0>) \n",
      "\n",
      "Layer: _pipeline.10.bias | Size: torch.Size([1]) | Values : tensor([-0.0745], grad_fn=<SliceBackward0>) \n",
      "\n"
     ]
    }
   ],
   "source": [
    "print(f\"Model structure: {model}\\n\\n\")\n",
    "\n",
    "for name, param in model.named_parameters():\n",
    "    print(f\"Layer: {name} | Size: {param.size()} | Values : {param[:2]} \\n\")"
   ]
  },
  {
   "cell_type": "code",
   "execution_count": 21,
   "metadata": {},
   "outputs": [],
   "source": [
    "def train_network(model, optimizer, loss_function, X_train, y_train, num_epochs=100, batch_size=1000):\n",
    "    losses = []\n",
    "    model.train()\n",
    "    for epoch in range(num_epochs):\n",
    "        loss = 0.0\n",
    "        for batch_start_index in range(0, X_train.shape[0], batch_size):\n",
    "            \n",
    "            X_ = X_train[batch_start_index : min(X_train.shape[0], batch_start_index + batch_size)]\n",
    "            y_ = y_train[batch_start_index : min(X_train.shape[0], batch_start_index + batch_size)]\n",
    "\n",
    "            optimizer.zero_grad()\n",
    "\n",
    "            f_x = model(X_)\n",
    "\n",
    "            loss_ = loss_function(f_x, y_)\n",
    "            loss += loss_.item() * X_.shape[0]\n",
    "\n",
    "            loss_.backward()\n",
    "\n",
    "            optimizer.step()\n",
    "        \n",
    "        # print(f\"Epoch {epoch} loss: {loss}\")\n",
    "        losses.append(loss / X_train.shape[0])\n",
    "\n",
    "    return losses"
   ]
  },
  {
   "cell_type": "code",
   "execution_count": 17,
   "metadata": {},
   "outputs": [
    {
     "data": {
      "text/plain": [
       "Text(0.5, 0, 'Epochs')"
      ]
     },
     "execution_count": 17,
     "metadata": {},
     "output_type": "execute_result"
    },
    {
     "data": {
      "image/png": "[encoded data removed]",
      "text/plain": [
       "<Figure size 432x288 with 1 Axes>"
      ]
     },
     "metadata": {
      "needs_background": "light"
     },
     "output_type": "display_data"
    }
   ],
   "source": [
    "losses = train_network(model, optimizer, loss_function, X_train, y_train)\n",
    "plt.plot(losses)\n",
    "plt.title('Loss across epochs')\n",
    "plt.ylabel('Loss')\n",
    "plt.xlabel('Epochs')"
   ]
  },
  {
   "cell_type": "code",
   "execution_count": 18,
   "metadata": {},
   "outputs": [],
   "source": [
    "def evaluate_model(model, X, y):\n",
    "\n",
    "    model.eval()\n",
    "\n",
    "    y_hat = model(X).detach().numpy()\n",
    "\n",
    "    mae = mean_absolute_error(y, y_hat)\n",
    "    mape = mean_absolute_percentage_error(y, y_hat)\n",
    "    rmse = mean_squared_error(y, y_hat, squared=False)\n",
    "    rmsle = mean_squared_log_error(y, y_hat, squared=False)\n",
    "    \n",
    "\n",
    "    print(f\"MAE={mae}, MAPE={mape}, RMSE={rmse}, RMSLE={rmsle}\")\n",
    "\n",
    "    plt.scatter(y, y_hat)\n",
    "    plt.title(\"Actuals vs Predictions\")\n"
   ]
  },
  {
   "cell_type": "code",
   "execution_count": 19,
   "metadata": {},
   "outputs": [
    {
     "name": "stdout",
     "output_type": "stream",
     "text": [
      "MAE=750865.75, MAPE=0.6713222861289978, RMSE=1555561.875, RMSLE=2.171539545059204\n"
     ]
    },
    {
     "data": {
      "image/png": "[encoded data removed]",
      "text/plain": [
       "<Figure size 432x288 with 1 Axes>"
      ]
     },
     "metadata": {
      "needs_background": "light"
     },
     "output_type": "display_data"
    }
   ],
   "source": [
    "evaluate_model(model, X_train, y_train)"
   ]
  },
  {
   "cell_type": "code",
   "execution_count": 20,
   "metadata": {},
   "outputs": [
    {
     "name": "stdout",
     "output_type": "stream",
     "text": [
      "MAE=7911550.5, MAPE=10.498246192932129, RMSE=67636136.0, RMSLE=2.1225388050079346\n"
     ]
    },
    {
     "data": {
      "image/png": "[encoded data removed]",
      "text/plain": [
       "<Figure size 432x288 with 1 Axes>"
      ]
     },
     "metadata": {
      "needs_background": "light"
     },
     "output_type": "display_data"
    }
   ],
   "source": [
    "evaluate_model(model, X_test, y_test)"
   ]
  },
  {
   "cell_type": "code",
   "execution_count": null,
   "metadata": {},
   "outputs": [],
   "source": []
  }
 ],
 "metadata": {
  "kernelspec": {
   "display_name": "Python 3.9.13 ('.venv': venv)",
   "language": "python",
   "name": "python3"
  },
  "language_info": {
   "codemirror_mode": {
    "name": "ipython",
    "version": 3
   },
   "file_extension": ".py",
   "mimetype": "text/x-python",
   "name": "python",
   "nbconvert_exporter": "python",
   "pygments_lexer": "ipython3",
   "version": "3.9.13"
  },
  "orig_nbformat": 4,
  "vscode": {
   "interpreter": {
    "hash": "18b9f998194b1e812736b1855138d24a0ba8efc8700746f6ea84cd11a4b20f07"
   }
  }
 },
 "nbformat": 4,
 "nbformat_minor": 2
}
